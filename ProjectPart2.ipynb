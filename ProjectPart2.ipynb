{
 "cells": [
  {
   "cell_type": "code",
   "execution_count": 14,
   "metadata": {},
   "outputs": [],
   "source": [
    "import pandas as pd\n",
    "import numpy as np\n",
    "import nltk\n",
    "import ast\n",
    "import re\n",
    "from nltk.tokenize import word_tokenize\n",
    "from nltk.corpus import wordnet\n",
    "from nltk.corpus import sentiwordnet\n",
    "import matplotlib.pyplot as plt\n",
    "import seaborn as sns"
   ]
  },
  {
   "cell_type": "code",
   "execution_count": 15,
   "metadata": {},
   "outputs": [
    {
     "data": {
      "text/html": [
       "<div>\n",
       "<style scoped>\n",
       "    .dataframe tbody tr th:only-of-type {\n",
       "        vertical-align: middle;\n",
       "    }\n",
       "\n",
       "    .dataframe tbody tr th {\n",
       "        vertical-align: top;\n",
       "    }\n",
       "\n",
       "    .dataframe thead th {\n",
       "        text-align: right;\n",
       "    }\n",
       "</style>\n",
       "<table border=\"1\" class=\"dataframe\">\n",
       "  <thead>\n",
       "    <tr style=\"text-align: right;\">\n",
       "      <th></th>\n",
       "      <th>Unnamed: 0</th>\n",
       "      <th>Product Name</th>\n",
       "      <th>product</th>\n",
       "      <th>title</th>\n",
       "      <th>format</th>\n",
       "      <th>stars</th>\n",
       "      <th>comments</th>\n",
       "      <th>helpful</th>\n",
       "    </tr>\n",
       "  </thead>\n",
       "  <tbody>\n",
       "    <tr>\n",
       "      <th>0</th>\n",
       "      <td>1</td>\n",
       "      <td>galaxyon7Size: 32GB</td>\n",
       "      <td>galaxyon7</td>\n",
       "      <td>Beautiful premium metallic design</td>\n",
       "      <td>Size: 32GB</td>\n",
       "      <td>5</td>\n",
       "      <td>I have used this phone almost a month. So I wa...</td>\n",
       "      <td>60.0</td>\n",
       "    </tr>\n",
       "    <tr>\n",
       "      <th>1</th>\n",
       "      <td>2</td>\n",
       "      <td>galaxyon7Size: 64GB</td>\n",
       "      <td>galaxyon7</td>\n",
       "      <td>Budget phone But Could Have Been Better!</td>\n",
       "      <td>Size: 64GB</td>\n",
       "      <td>4</td>\n",
       "      <td>Hello Samsung Lovers!This phone looks beautifu...</td>\n",
       "      <td>107.0</td>\n",
       "    </tr>\n",
       "    <tr>\n",
       "      <th>2</th>\n",
       "      <td>3</td>\n",
       "      <td>galaxyon7Size: 32GB</td>\n",
       "      <td>galaxyon7</td>\n",
       "      <td>Another Failed Attempt by Samsung!</td>\n",
       "      <td>Size: 32GB</td>\n",
       "      <td>1</td>\n",
       "      <td>Well, when I started reviewing the Galaxy On7 ...</td>\n",
       "      <td>21.0</td>\n",
       "    </tr>\n",
       "    <tr>\n",
       "      <th>3</th>\n",
       "      <td>4</td>\n",
       "      <td>galaxyon7Size: 64GB</td>\n",
       "      <td>galaxyon7</td>\n",
       "      <td>My mobile headset is not recived i was return ...</td>\n",
       "      <td>Size: 64GB</td>\n",
       "      <td>1</td>\n",
       "      <td>My mobile headset  is not recived  i was retur...</td>\n",
       "      <td>3.0</td>\n",
       "    </tr>\n",
       "    <tr>\n",
       "      <th>4</th>\n",
       "      <td>5</td>\n",
       "      <td>galaxyon7Size: 32GB</td>\n",
       "      <td>galaxyon7</td>\n",
       "      <td>Good Mid Budget Smartphone</td>\n",
       "      <td>Size: 32GB</td>\n",
       "      <td>5</td>\n",
       "      <td>A Good Mid budget phone..1. Display: With a Sa...</td>\n",
       "      <td>8.0</td>\n",
       "    </tr>\n",
       "  </tbody>\n",
       "</table>\n",
       "</div>"
      ],
      "text/plain": [
       "   Unnamed: 0         Product Name    product  \\\n",
       "0           1  galaxyon7Size: 32GB  galaxyon7   \n",
       "1           2  galaxyon7Size: 64GB  galaxyon7   \n",
       "2           3  galaxyon7Size: 32GB  galaxyon7   \n",
       "3           4  galaxyon7Size: 64GB  galaxyon7   \n",
       "4           5  galaxyon7Size: 32GB  galaxyon7   \n",
       "\n",
       "                                               title      format  stars  \\\n",
       "0                  Beautiful premium metallic design  Size: 32GB      5   \n",
       "1           Budget phone But Could Have Been Better!  Size: 64GB      4   \n",
       "2                 Another Failed Attempt by Samsung!  Size: 32GB      1   \n",
       "3  My mobile headset is not recived i was return ...  Size: 64GB      1   \n",
       "4                         Good Mid Budget Smartphone  Size: 32GB      5   \n",
       "\n",
       "                                            comments  helpful  \n",
       "0  I have used this phone almost a month. So I wa...     60.0  \n",
       "1  Hello Samsung Lovers!This phone looks beautifu...    107.0  \n",
       "2  Well, when I started reviewing the Galaxy On7 ...     21.0  \n",
       "3  My mobile headset  is not recived  i was retur...      3.0  \n",
       "4  A Good Mid budget phone..1. Display: With a Sa...      8.0  "
      ]
     },
     "execution_count": 15,
     "metadata": {},
     "output_type": "execute_result"
    }
   ],
   "source": [
    "# Load csv file\n",
    "df = pd.read_csv('data.csv')\n",
    "df.head()"
   ]
  },
  {
   "cell_type": "code",
   "execution_count": 16,
   "metadata": {},
   "outputs": [
    {
     "name": "stdout",
     "output_type": "stream",
     "text": [
      "Summary statistics of numerical features : \n",
      "         Unnamed: 0        stars      helpful\n",
      "count  3600.000000  3600.000000  2315.000000\n",
      "mean   1800.500000     3.927222     4.805184\n",
      "std    1039.374812     1.432459    15.192188\n",
      "min       1.000000     1.000000     1.000000\n",
      "25%     900.750000     3.000000     1.000000\n",
      "50%    1800.500000     5.000000     2.000000\n",
      "75%    2700.250000     5.000000     3.000000\n",
      "max    3600.000000     5.000000   351.000000\n",
      "\n",
      "Total number of reviews:  3600\n",
      "\n",
      "Total number of brands:  12\n",
      "\n",
      "Total number of unique products:  15\n",
      "\n",
      "Percentage of reviews with neutral sentiment : 7.94%\n",
      "\n",
      "Percentage of reviews with positive sentiment : 72.33%\n",
      "\n",
      "Percentage of reviews with negative sentiment : 19.03%\n"
     ]
    }
   ],
   "source": [
    "\n",
    "print(\"Summary statistics of numerical features : \\n\", df.describe())\n",
    "\n",
    "print(\"\\nTotal number of reviews: \",len(df))\n",
    "print(\"\\nTotal number of brands: \", len(list(set(df['product']))))\n",
    "print(\"\\nTotal number of unique products: \", len(list(set(df['Product Name']))))\n",
    "\n",
    "print(\"\\nPercentage of reviews with neutral sentiment : {:.2f}%\"\\\n",
    "      .format(df[df['stars']==3][\"comments\"].count()/len(df)*100))\n",
    "print(\"\\nPercentage of reviews with positive sentiment : {:.2f}%\"\\\n",
    "      .format(df[df['stars']>3][\"comments\"].count()/len(df)*100))\n",
    "print(\"\\nPercentage of reviews with negative sentiment : {:.2f}%\"\\\n",
    "      .format(df[df['stars']<3][\"comments\"].count()/len(df)*100))"
   ]
  },
  {
   "cell_type": "code",
   "execution_count": 17,
   "metadata": {},
   "outputs": [
    {
     "data": {
      "text/plain": [
       "Text(0, 0.5, 'Count')"
      ]
     },
     "execution_count": 17,
     "metadata": {},
     "output_type": "execute_result"
    },
    {
     "data": {
      "image/png": "[encoded data removed]",
      "text/plain": [
       "<Figure size 864x576 with 1 Axes>"
      ]
     },
     "metadata": {
      "needs_background": "light"
     },
     "output_type": "display_data"
    }
   ],
   "source": [
    "# Plot distribution of review length\n",
    "review_length = df[\"comments\"].dropna().map(lambda x: len(x))\n",
    "plt.figure(figsize=(12,8))\n",
    "review_length.loc[review_length < 1500].hist()\n",
    "plt.title(\"Distribution of Review Length\")\n",
    "plt.xlabel('Review length (Number of character)')\n",
    "plt.ylabel('Count')"
   ]
  },
  {
   "cell_type": "code",
   "execution_count": 18,
   "metadata": {},
   "outputs": [
    {
     "data": {
      "text/html": [
       "<div>\n",
       "<style scoped>\n",
       "    .dataframe tbody tr th:only-of-type {\n",
       "        vertical-align: middle;\n",
       "    }\n",
       "\n",
       "    .dataframe tbody tr th {\n",
       "        vertical-align: top;\n",
       "    }\n",
       "\n",
       "    .dataframe thead th {\n",
       "        text-align: right;\n",
       "    }\n",
       "</style>\n",
       "<table border=\"1\" class=\"dataframe\">\n",
       "  <thead>\n",
       "    <tr style=\"text-align: right;\">\n",
       "      <th></th>\n",
       "      <th>Unnamed: 0</th>\n",
       "      <th>Product Name</th>\n",
       "      <th>product</th>\n",
       "      <th>title</th>\n",
       "      <th>format</th>\n",
       "      <th>stars</th>\n",
       "      <th>comments</th>\n",
       "      <th>helpful</th>\n",
       "      <th>Sentiment</th>\n",
       "    </tr>\n",
       "  </thead>\n",
       "  <tbody>\n",
       "    <tr>\n",
       "      <th>1303</th>\n",
       "      <td>1304</td>\n",
       "      <td>lenovok8noteSize: 4 GB</td>\n",
       "      <td>lenovok8note</td>\n",
       "      <td>some these photos are taken in complete dark  ...</td>\n",
       "      <td>Size: 4 GB</td>\n",
       "      <td>5</td>\n",
       "      <td>i don't why people are saying the cameras of p...</td>\n",
       "      <td>31.0</td>\n",
       "      <td>1</td>\n",
       "    </tr>\n",
       "    <tr>\n",
       "      <th>1311</th>\n",
       "      <td>1312</td>\n",
       "      <td>lenovok8noteSize: 4 GB</td>\n",
       "      <td>lenovok8note</td>\n",
       "      <td>KillerNote Should have Dual 4G Standby.</td>\n",
       "      <td>Size: 4 GB</td>\n",
       "      <td>4</td>\n",
       "      <td>Good Mobile.Dual 4G Standby is not available.H...</td>\n",
       "      <td>1.0</td>\n",
       "      <td>1</td>\n",
       "    </tr>\n",
       "    <tr>\n",
       "      <th>581</th>\n",
       "      <td>582</td>\n",
       "      <td>iphoneseColour: Gold</td>\n",
       "      <td>iphonese</td>\n",
       "      <td>Four Stars</td>\n",
       "      <td>Colour: Gold</td>\n",
       "      <td>4</td>\n",
       "      <td>its working awesome...</td>\n",
       "      <td>2.0</td>\n",
       "      <td>1</td>\n",
       "    </tr>\n",
       "    <tr>\n",
       "      <th>635</th>\n",
       "      <td>636</td>\n",
       "      <td>redmenoteColour: Grey</td>\n",
       "      <td>redmenote</td>\n",
       "      <td>Awsome........</td>\n",
       "      <td>Colour: Grey</td>\n",
       "      <td>5</td>\n",
       "      <td>Superb mobile....go for it without any hesitat...</td>\n",
       "      <td>1.0</td>\n",
       "      <td>1</td>\n",
       "    </tr>\n",
       "    <tr>\n",
       "      <th>196</th>\n",
       "      <td>197</td>\n",
       "      <td>galaxyon7Size: 64GB</td>\n",
       "      <td>galaxyon7</td>\n",
       "      <td>Battery back up and camera quality is amazing.</td>\n",
       "      <td>Size: 64GB</td>\n",
       "      <td>5</td>\n",
       "      <td>Superb stylish and sleek phone. First lowest p...</td>\n",
       "      <td>5.0</td>\n",
       "      <td>1</td>\n",
       "    </tr>\n",
       "  </tbody>\n",
       "</table>\n",
       "</div>"
      ],
      "text/plain": [
       "      Unnamed: 0            Product Name       product  \\\n",
       "1303        1304  lenovok8noteSize: 4 GB  lenovok8note   \n",
       "1311        1312  lenovok8noteSize: 4 GB  lenovok8note   \n",
       "581          582    iphoneseColour: Gold      iphonese   \n",
       "635          636   redmenoteColour: Grey     redmenote   \n",
       "196          197     galaxyon7Size: 64GB     galaxyon7   \n",
       "\n",
       "                                                  title        format  stars  \\\n",
       "1303  some these photos are taken in complete dark  ...    Size: 4 GB      5   \n",
       "1311            KillerNote Should have Dual 4G Standby.    Size: 4 GB      4   \n",
       "581                                          Four Stars  Colour: Gold      4   \n",
       "635                                      Awsome........  Colour: Grey      5   \n",
       "196      Battery back up and camera quality is amazing.    Size: 64GB      5   \n",
       "\n",
       "                                               comments  helpful  Sentiment  \n",
       "1303  i don't why people are saying the cameras of p...     31.0          1  \n",
       "1311  Good Mobile.Dual 4G Standby is not available.H...      1.0          1  \n",
       "581                              its working awesome...      2.0          1  \n",
       "635   Superb mobile....go for it without any hesitat...      1.0          1  \n",
       "196   Superb stylish and sleek phone. First lowest p...      5.0          1  "
      ]
     },
     "execution_count": 18,
     "metadata": {},
     "output_type": "execute_result"
    }
   ],
   "source": [
    "\n",
    "df = df.sample(frac=0.1, random_state=0) #uncomment to use full set of data\n",
    "\n",
    "# Drop missing values\n",
    "df.dropna(inplace=True)\n",
    "\n",
    "# Remove any 'neutral' ratings equal to 3\n",
    "df = df[df['stars'] != 3]\n",
    "\n",
    "# Encode 4s and 5s as 1 (positive sentiment) and 1s and 2s as 0 (negative sentiment)\n",
    "df['Sentiment'] = np.where(df['stars'] > 3, 1, 0)\n",
    "df.head()"
   ]
  },
  {
   "cell_type": "code",
   "execution_count": 19,
   "metadata": {},
   "outputs": [
    {
     "name": "stdout",
     "output_type": "stream",
     "text": [
      "Load 87 training examples and 10 validation examples. \n",
      "\n",
      "Show a review in the training set : \n",
      " Writing this a day after receiving the phone. I was afraid after seeing all the negative reviews about tampered boxes, faulty or recycled accessories, etc. But, I received a factory packed iPhone SE - no tampering! It was Amazon Fulfilled and I always only order such products. Everything inside the box was brand new and the phone works great. I was exchanging it for my iPhone 5 and I am very satisfied :-)I have bought from Amazon so many times - both in US and in India - in the past 11 years. I only choose products that ship from the Amazon Warehouse. I never had to return anything ever so far!\n"
     ]
    }
   ],
   "source": [
    "from sklearn.model_selection import train_test_split\n",
    "# Split data into training set and validation\n",
    "X_train, X_test, y_train, y_test = train_test_split(df['comments'], df['Sentiment'], \\\n",
    "                                                    test_size=0.1, random_state=0)\n",
    "\n",
    "print('Load %d training examples and %d validation examples. \\n' %(X_train.shape[0],X_test.shape[0]))\n",
    "print('Show a review in the training set : \\n', X_train.iloc[10])"
   ]
  },
  {
   "cell_type": "code",
   "execution_count": 8,
   "metadata": {},
   "outputs": [],
   "source": [
    "from bs4 import BeautifulSoup  \n",
    "import re\n",
    "import nltk\n",
    "from nltk.corpus import stopwords \n",
    "from nltk.stem.porter import PorterStemmer\n",
    "from nltk.stem import SnowballStemmer, WordNetLemmatizer\n",
    "from nltk import sent_tokenize, word_tokenize, pos_tag\n",
    "\n",
    "import logging\n",
    "from gensim.models import word2vec\n",
    "from gensim.models import Word2Vec\n",
    "from gensim.models.keyedvectors import KeyedVectors"
   ]
  },
  {
   "cell_type": "code",
   "execution_count": 12,
   "metadata": {},
   "outputs": [],
   "source": [
    "def cleanText(raw_text, remove_stopwords=False, stemming=False, split_text=False, \\\n",
    "             ):\n",
    "    '''\n",
    "    Convert a raw review to a cleaned review\n",
    "    '''\n",
    "    text = BeautifulSoup(raw_text, 'lxml').get_text()  #remove html\n",
    "    letters_only = re.sub(\"[^a-zA-Z]\", \" \", text)  # remove non-character\n",
    "    words = letters_only.lower().split() # convert to lower case \n",
    "    if remove_stopwords: # remove stopword\n",
    "        stops = nltk.corpus.stopwords.words(\"english\")\n",
    "        words = [w for w in words if not w in stops]\n",
    "        \n",
    "    if stemming==True: # stemming\n",
    "#         stemmer = PorterStemmer()\n",
    "        stemmer = SnowballStemmer('english') \n",
    "        words = [stemmer.stem(w) for w in words]\n",
    "        \n",
    "    if split_text==True:  # split text\n",
    "        return (words)\n",
    "    \n",
    "    return( \" \".join(words))"
   ]
  },
  {
   "cell_type": "code",
   "execution_count": 13,
   "metadata": {},
   "outputs": [
    {
     "name": "stdout",
     "output_type": "stream",
     "text": [
      "Show a cleaned review in the training set : \n",
      " writing this a day after receiving the phone i was afraid after seeing all the negative reviews about tampered boxes faulty or recycled accessories etc but i received a factory packed iphone se no tampering it was amazon fulfilled and i always only order such products everything inside the box was brand new and the phone works great i was exchanging it for my iphone and i am very satisfied i have bought from amazon so many times both in us and in india in the past years i only choose products that ship from the amazon warehouse i never had to return anything ever so far\n"
     ]
    }
   ],
   "source": [
    "# Preprocess text data in training set and validation set\n",
    "X_train_cleaned = []\n",
    "X_test_cleaned = []\n",
    "\n",
    "for d in X_train:\n",
    "    X_train_cleaned.append(cleanText(d))\n",
    "print('Show a cleaned review in the training set : \\n',  X_train_cleaned[10])\n",
    "    \n",
    "for d in X_test:\n",
    "    X_test_cleaned.append(cleanText(d))"
   ]
  },
  {
   "cell_type": "code",
   "execution_count": 56,
   "metadata": {},
   "outputs": [],
   "source": [
    "from sklearn.feature_extraction.text import CountVectorizer, TfidfVectorizer\n",
    "from sklearn.naive_bayes import BernoulliNB, MultinomialNB\n",
    "from sklearn.linear_model import LogisticRegression\n",
    "from sklearn.ensemble import RandomForestClassifier\n",
    "from sklearn import metrics\n",
    "from sklearn.metrics import roc_auc_score, accuracy_score\n",
    "from sklearn.pipeline import Pipeline"
   ]
  },
  {
   "cell_type": "code",
   "execution_count": 57,
   "metadata": {},
   "outputs": [
    {
     "name": "stdout",
     "output_type": "stream",
     "text": [
      "86 parsed sentence in the training set\n",
      "\n",
      "Show a parsed sentence in the training set : \n",
      " ['writing', 'this', 'a', 'day', 'after', 'receiving', 'the', 'phone', 'i', 'was', 'afraid', 'after', 'seeing', 'all', 'the', 'negative', 'reviews', 'about', 'tampered', 'boxes', 'faulty', 'or', 'recycled', 'accessories', 'etc', 'but', 'i', 'received', 'a', 'factory', 'packed', 'iphone', 'se', 'no', 'tampering', 'it', 'was', 'amazon', 'fulfilled', 'and', 'i', 'always', 'only', 'order', 'such', 'products', 'everything', 'inside', 'the', 'box', 'was', 'brand', 'new', 'and', 'the', 'phone', 'works', 'great', 'i', 'was', 'exchanging', 'it', 'for', 'my', 'iphone', 'and', 'i', 'am', 'very', 'satisfied', 'i', 'have', 'bought', 'from', 'amazon', 'so', 'many', 'times', 'both', 'in', 'us', 'and', 'in', 'india', 'in', 'the', 'past', 'years', 'i', 'only', 'choose', 'products', 'that', 'ship', 'from', 'the', 'amazon', 'warehouse', 'i', 'never', 'had', 'to', 'return', 'anything', 'ever', 'so', 'far']\n"
     ]
    }
   ],
   "source": [
    "# Split review text into parsed sentences uisng NLTK's punkt tokenizer\n",
    "# nltk.download()\n",
    "tokenizer = nltk.data.load('tokenizers/punkt/english.pickle')\n",
    "\n",
    "def parseSent(review, tokenizer, remove_stopwords=False):\n",
    "    '''\n",
    "    Parse text into sentences\n",
    "    '''\n",
    "    raw_sentences = tokenizer.tokenize(review.strip())\n",
    "    sentences = []\n",
    "    for raw_sentence in raw_sentences:\n",
    "        if len(raw_sentence) > 0:\n",
    "            sentences.append(cleanText(raw_sentence, remove_stopwords, split_text=True))\n",
    "    return sentences\n",
    "\n",
    "\n",
    "# Parse each review in the training set into sentences\n",
    "sentences = []\n",
    "for review in X_train_cleaned:\n",
    "    sentences += parseSent(review, tokenizer)\n",
    "    \n",
    "print('%d parsed sentence in the training set\\n'  %len(sentences))\n",
    "print('Show a parsed sentence in the training set : \\n',  sentences[10])"
   ]
  },
  {
   "cell_type": "code",
   "execution_count": 58,
   "metadata": {},
   "outputs": [
    {
     "name": "stdout",
     "output_type": "stream",
     "text": [
      "Training Word2Vec model ...\n",
      "\n",
      "Number of words in the vocabulary list : 133 \n",
      "\n",
      "Show first 10 words in the vocalbulary list  vocabulary list: \n",
      " ['the', 'is', 'and', 'to', 'i', 'it', 'a', 'phone', 'with', 'of']\n"
     ]
    }
   ],
   "source": [
    "# Fit parsed sentences to Word2Vec model \n",
    "# logging.basicConfig(format='%(asctime)s : %(levelname)s : %(message)s',level=logging.INFO)\n",
    "\n",
    "num_features = 300  #embedding dimension                     \n",
    "min_word_count = 10                \n",
    "num_workers = 4       \n",
    "context = 10                                                                                          \n",
    "downsampling = 1e-3 \n",
    "\n",
    "print(\"Training Word2Vec model ...\\n\")\n",
    "w2v = Word2Vec(sentences, workers=num_workers, size=num_features, min_count = min_word_count,\\\n",
    "                 window = context, sample = downsampling)\n",
    "w2v.init_sims(replace=True)\n",
    "w2v.save(\"w2v_300features_10minwordcounts_10context\") #save trained word2vec model\n",
    "\n",
    "print(\"Number of words in the vocabulary list : %d \\n\" %len(w2v.wv.index2word)) #4016 \n",
    "print(\"Show first 10 words in the vocalbulary list  vocabulary list: \\n\", w2v.wv.index2word[0:10])"
   ]
  },
  {
   "cell_type": "code",
   "execution_count": 59,
   "metadata": {},
   "outputs": [],
   "source": [
    "# Transfrom the training data into feature vectors\n",
    "\n",
    "def makeFeatureVec(review, model, num_features):\n",
    "    '''\n",
    "    Transform a review to a feature vector by averaging feature vectors of words \n",
    "    appeared in that review and in the volcabulary list created\n",
    "    '''\n",
    "    featureVec = np.zeros((num_features,),dtype=\"float32\")\n",
    "    nwords = 0.\n",
    "    index2word_set = set(model.wv.index2word) #index2word is the volcabulary list of the Word2Vec model\n",
    "    isZeroVec = True\n",
    "    for word in review:\n",
    "        if word in index2word_set: \n",
    "            nwords = nwords + 1.\n",
    "            featureVec = np.add(featureVec, model[word])\n",
    "            isZeroVec = False\n",
    "    if isZeroVec == False:\n",
    "        featureVec = np.divide(featureVec, nwords)\n",
    "    return featureVec\n",
    "\n",
    "\n",
    "def getAvgFeatureVecs(reviews, model, num_features):\n",
    "    '''\n",
    "    Transform all reviews to feature vectors using makeFeatureVec()\n",
    "    '''\n",
    "    counter = 0\n",
    "    reviewFeatureVecs = np.zeros((len(reviews),num_features),dtype=\"float32\")\n",
    "    for review in reviews:\n",
    "        reviewFeatureVecs[counter] = makeFeatureVec(review, model,num_features)\n",
    "        counter = counter + 1\n",
    "    return reviewFeatureVecs"
   ]
  },
  {
   "cell_type": "code",
   "execution_count": 60,
   "metadata": {},
   "outputs": [
    {
     "name": "stdout",
     "output_type": "stream",
     "text": [
      "Training set : 87 feature vectors with 300 dimensions\n",
      "Validation set : 10 feature vectors with 300 dimensions\n"
     ]
    },
    {
     "name": "stderr",
     "output_type": "stream",
     "text": [
      "C:\\Users\\Satra\\Anaconda3\\lib\\site-packages\\ipykernel_launcher.py:15: DeprecationWarning: Call to deprecated `__getitem__` (Method will be removed in 4.0.0, use self.wv.__getitem__() instead).\n",
      "  from ipykernel import kernelapp as app\n"
     ]
    }
   ],
   "source": [
    "# Get feature vectors for training set\n",
    "X_train_cleaned = []\n",
    "for review in X_train:\n",
    "    X_train_cleaned.append(cleanText(review, remove_stopwords=True, split_text=True))\n",
    "trainVector = getAvgFeatureVecs(X_train_cleaned, w2v, num_features)\n",
    "print(\"Training set : %d feature vectors with %d dimensions\" %trainVector.shape)\n",
    "\n",
    "\n",
    "# Get feature vectors for validation set\n",
    "X_test_cleaned = []\n",
    "for review in X_test:\n",
    "    X_test_cleaned.append(cleanText(review, remove_stopwords=True, split_text=True))\n",
    "testVector = getAvgFeatureVecs(X_test_cleaned, w2v, num_features)\n",
    "print(\"Validation set : %d feature vectors with %d dimensions\" %testVector.shape)\n",
    "\n",
    "\n",
    "# debugging\n",
    "# print(\"Checkinf for NaN and Inf\")\n",
    "# print(\"np.inf=\", np.where(np.isnan(trainVector)))\n",
    "# print(\"is.inf=\", np.where(np.isinf(trainVector)))\n",
    "# print(\"np.max=\", np.max(abs(trainVector)))"
   ]
  },
  {
   "cell_type": "code",
   "execution_count": 61,
   "metadata": {},
   "outputs": [
    {
     "name": "stdout",
     "output_type": "stream",
     "text": [
      "\n",
      "Accuracy on validation set: 0.6000\n",
      "\n",
      "AUC score : 0.5000\n",
      "\n",
      "Classification report : \n",
      "               precision    recall  f1-score   support\n",
      "\n",
      "           0       0.00      0.00      0.00         4\n",
      "           1       0.60      1.00      0.75         6\n",
      "\n",
      "   micro avg       0.60      0.60      0.60        10\n",
      "   macro avg       0.30      0.50      0.37        10\n",
      "weighted avg       0.36      0.60      0.45        10\n",
      "\n",
      "\n",
      "Confusion Matrix : \n",
      " [[0 4]\n",
      " [0 6]]\n"
     ]
    },
    {
     "name": "stderr",
     "output_type": "stream",
     "text": [
      "C:\\Users\\Satra\\Anaconda3\\lib\\site-packages\\sklearn\\metrics\\classification.py:1143: UndefinedMetricWarning: Precision and F-score are ill-defined and being set to 0.0 in labels with no predicted samples.\n",
      "  'precision', 'predicted', average, warn_for)\n",
      "C:\\Users\\Satra\\Anaconda3\\lib\\site-packages\\sklearn\\metrics\\classification.py:1143: UndefinedMetricWarning: Precision and F-score are ill-defined and being set to 0.0 in labels with no predicted samples.\n",
      "  'precision', 'predicted', average, warn_for)\n",
      "C:\\Users\\Satra\\Anaconda3\\lib\\site-packages\\sklearn\\metrics\\classification.py:1143: UndefinedMetricWarning: Precision and F-score are ill-defined and being set to 0.0 in labels with no predicted samples.\n",
      "  'precision', 'predicted', average, warn_for)\n"
     ]
    }
   ],
   "source": [
    "# Random Forest Classifier\n",
    "rf = RandomForestClassifier(n_estimators=100)\n",
    "rf.fit(trainVector, y_train)\n",
    "predictions = rf.predict(testVector)\n",
    "modelEvaluation(predictions)"
   ]
  },
  {
   "cell_type": "code",
   "execution_count": null,
   "metadata": {},
   "outputs": [],
   "source": []
  },
  {
   "cell_type": "code",
   "execution_count": null,
   "metadata": {},
   "outputs": [],
   "source": []
  },
  {
   "cell_type": "code",
   "execution_count": null,
   "metadata": {},
   "outputs": [],
   "source": []
  }
 ],
 "metadata": {
  "kernelspec": {
   "display_name": "Python 3",
   "language": "python",
   "name": "python3"
  },
  "language_info": {
   "codemirror_mode": {
    "name": "ipython",
    "version": 3
   },
   "file_extension": ".py",
   "mimetype": "text/x-python",
   "name": "python",
   "nbconvert_exporter": "python",
   "pygments_lexer": "ipython3",
   "version": "3.7.1"
  }
 },
 "nbformat": 4,
 "nbformat_minor": 2
}
